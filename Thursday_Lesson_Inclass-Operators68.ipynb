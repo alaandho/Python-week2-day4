{
 "cells": [
  {
   "cell_type": "markdown",
   "metadata": {},
   "source": [
    "# Object-Oriented-Programming (OOP)"
   ]
  },
  {
   "cell_type": "markdown",
   "metadata": {},
   "source": [
    "## Tasks Today:\n",
    "\n",
    "   \n",
    "\n",
    "1) <b>Creating a Class (Initializing/Declaring)</b> <br>\n",
    "2) <b>Using a Class (Instantiating)</b> <br>\n",
    " &nbsp;&nbsp;&nbsp;&nbsp; a) Creating One Instance <br>\n",
    " &nbsp;&nbsp;&nbsp;&nbsp; b) Creating Multiple Instances <br>\n",
    " &nbsp;&nbsp;&nbsp;&nbsp; c) In-Class Exercise #1 - Create a Class 'Car' and instantiate three different makes of cars <br>\n",
    "3) <b>The \\__init\\__() Method</b> <br>\n",
    " &nbsp;&nbsp;&nbsp;&nbsp; a) The 'self' Attribute <br>\n",
    "4) <b>Class Attributes</b> <br>\n",
    " &nbsp;&nbsp;&nbsp;&nbsp; a) Initializing Attributes <br>\n",
    " &nbsp;&nbsp;&nbsp;&nbsp; b) Setting an Attribute Outside of the \\__init\\__() Method <br>\n",
    " &nbsp;&nbsp;&nbsp;&nbsp; c) Setting Defaults for Attributes <br>\n",
    " &nbsp;&nbsp;&nbsp;&nbsp; d) Accessing Class Attributes <br>\n",
    " &nbsp;&nbsp;&nbsp;&nbsp; e) Changing Class Attributes <br>\n",
    " &nbsp;&nbsp;&nbsp;&nbsp; f) In-Class Exercise #2 - Add a color and wheels attribute to your 'Car' class <br>\n",
    "5) <b>Class Methods</b> <br>\n",
    " &nbsp;&nbsp;&nbsp;&nbsp; a) Creating <br>\n",
    " &nbsp;&nbsp;&nbsp;&nbsp; b) Calling <br>\n",
    " &nbsp;&nbsp;&nbsp;&nbsp; c) Modifying an Attribute's Value Through a Method <br>\n",
    " &nbsp;&nbsp;&nbsp;&nbsp; d) Incrementing an Attribute's Value Through a Method <br>\n",
    " &nbsp;&nbsp;&nbsp;&nbsp; e) In-Class Exercise #3 - Add a method that prints the cars color and wheel number, then call them <br>\n",
    "6) <b>Inheritance</b> <br>\n",
    " &nbsp;&nbsp;&nbsp;&nbsp; a) Syntax for Inheriting from a Parent Class <br>\n",
    " &nbsp;&nbsp;&nbsp;&nbsp; b) The \\__init\\__() Method for a Child Class (super()) <br>\n",
    " &nbsp;&nbsp;&nbsp;&nbsp; c) Defining Attributes and Methods for the Child Class <br>\n",
    " &nbsp;&nbsp;&nbsp;&nbsp; d) Method Overriding <br>\n",
    " &nbsp;&nbsp;&nbsp;&nbsp; e) In-Class Exercise #4 - Create a class 'Ford' that inherits from 'Car' class and initialize it as a Blue Ford Explorer with 4 wheels using the super() method <br>\n",
    "7) <b>Classes as Attributes</b> <br>\n",
    "8) <b>Exercises</b> <br>\n",
    " &nbsp;&nbsp;&nbsp;&nbsp; a) Exercise #1 - Turn the shopping cart program from yesterday into an object-oriented program <br>"
   ]
  },
  {
   "cell_type": "code",
   "execution_count": null,
   "metadata": {},
   "outputs": [],
   "source": [
    "# In Class Shopping Cart example"
   ]
  },
  {
   "cell_type": "code",
   "execution_count": 13,
   "metadata": {},
   "outputs": [
    {
     "name": "stdout",
     "output_type": "stream",
     "text": [
      "['banana', 'orange']\n",
      "['banana', 'orange', 'banana', 'banana', 'banana']\n",
      "What would you like to do? Add/remove/show/clear cart: add\n",
      "What would you like to add?banana\n",
      "What would you like to do? Add/remove/show/clear cart: rice\n",
      "Sorry not a valid response\n",
      "What would you like to do? Add/remove/show/clear cart: show\n",
      "Here is your cart: \n",
      "banana\n",
      "orange\n",
      "banana\n",
      "banana\n",
      "banana\n",
      "banana\n",
      "What would you like to do? Add/remove/show/clear cart: quit\n",
      "Thanks for shopping with us!\n",
      "Here is your cart: \n",
      "banana\n",
      "orange\n",
      "banana\n",
      "banana\n",
      "banana\n",
      "banana\n"
     ]
    }
   ],
   "source": [
    "from IPython.display import clear_output\n",
    "\n",
    "cart = []\n",
    "\n",
    "#make entire function just for adding\n",
    "\n",
    "def addItem(item):\n",
    "#     clear_output()\n",
    "    cart.append(item)\n",
    "    \n",
    "#remove from cart\n",
    "def removeItem(item):\n",
    "#     clear_output()\n",
    "    cart.remove(item)\n",
    "    \n",
    "#show cart\n",
    "def showCart():\n",
    "    print(\"Here is your cart: \")\n",
    "    for item in cart:\n",
    "        print(item)\n",
    "        \n",
    "addItem('banana')\n",
    "addItem('orange')\n",
    "print(cart)\n",
    "\n",
    "\n",
    "#clear cart\n",
    "def clearCart():\n",
    "    print(\"Your cart is not empty\")\n",
    "    cart.clear()\n",
    "    \n",
    "addItem('banana')\n",
    "addItem('banana')\n",
    "addItem('banana')\n",
    "print(cart)\n",
    "\n",
    "\n",
    "#Program utilizing pre-built functionality\n",
    "def shoppingCart():\n",
    "    while True:\n",
    "        response = input(\"What would you like to do? Add/remove/show/clear cart: \")\n",
    "        if response.lower() == 'quit':\n",
    "            print('Thanks for shopping with us!')\n",
    "            showCart()\n",
    "            break\n",
    "        elif response.lower() == 'add':\n",
    "            item_resp = input('What would you like to add?')\n",
    "            addItem(item_resp)\n",
    "        elif response.lower() == 'remove':\n",
    "            showCart()\n",
    "            remove_resp = input(\"What do you want to remove?\")\n",
    "            removeItem(remove_resp)\n",
    "        elif response.lower() == 'show':\n",
    "            showCart()\n",
    "        elif response.lower() == 'clear':\n",
    "            clearCart()\n",
    "        else:\n",
    "            print('Sorry not a valid response')\n",
    "shoppingCart()\n",
    "            \n",
    "    \n",
    "    \n",
    "# addItem('banana')\n",
    "# print(cart)\n",
    "# removeItem('banana')\n",
    "# print(cart)"
   ]
  },
  {
   "cell_type": "markdown",
   "metadata": {},
   "source": [
    "## Creating a Class (Initializing/Declaring)\n",
    "<p>When creating a class, function, or even a variable you are initializing that object. Initializing and Declaring occur at the same time in Python, whereas in lower level languages you have to declare an object before initializing it. This is the first step in the process of using a class.</p>"
   ]
  },
  {
   "cell_type": "code",
   "execution_count": 15,
   "metadata": {},
   "outputs": [],
   "source": [
    "#name = \"Nate\" #this is a new variable of string type\n",
    "#class Car:\n",
    "#or\n",
    "#class Car()\n",
    "class Car():  #class starts function with Captiol letter only for class\n",
    "    wheels = 4 #want every car to have four wheels  #declare variable here\n",
    "    color = 'blue' #every car should be blue    #declare variable here\n",
    "    #attributes of car"
   ]
  },
  {
   "cell_type": "markdown",
   "metadata": {},
   "source": [
    "## Using a Class (Instantiating)\n",
    "<p>The process of creating a class is called <i>Instantiating</i>. Each time you create a variable of that type of class, it is referred to as an <i>Instance</i> of that class. This is the second step in the process of using a class.</p>"
   ]
  },
  {
   "cell_type": "markdown",
   "metadata": {},
   "source": [
    "##### Creating One Instance"
   ]
  },
  {
   "cell_type": "code",
   "execution_count": 16,
   "metadata": {},
   "outputs": [
    {
     "name": "stdout",
     "output_type": "stream",
     "text": [
      "<__main__.Car object at 0x7fba05754040>\n",
      "4\n",
      "blue\n"
     ]
    }
   ],
   "source": [
    "ford = Car()\n",
    "print(ford)   #looking for a class and something inside of it\n",
    "\n",
    "print(ford.wheels) #look inside of the newly instantiated car, show me the wheels (variable name.attribute name)\n",
    "print(ford.color)\n",
    "\n",
    "str.lower # the string class of lower attribute"
   ]
  },
  {
   "cell_type": "markdown",
   "metadata": {},
   "source": [
    "##### Creating Multiple Instances"
   ]
  },
  {
   "cell_type": "code",
   "execution_count": 17,
   "metadata": {},
   "outputs": [
    {
     "name": "stdout",
     "output_type": "stream",
     "text": [
      "4\n",
      "blue\n"
     ]
    }
   ],
   "source": [
    "chevy = Car()\n",
    "honda = Car()\n",
    "lambo = Car()\n",
    "\n",
    "\n",
    "print(lambo.wheels)\n",
    "print(chevy.color)"
   ]
  },
  {
   "cell_type": "markdown",
   "metadata": {},
   "source": [
    "##### In-Class Exercise #1 - Create a Class 'Car' and Instantiate three different makes of cars"
   ]
  },
  {
   "cell_type": "code",
   "execution_count": 18,
   "metadata": {},
   "outputs": [
    {
     "name": "stdout",
     "output_type": "stream",
     "text": [
      "4\n",
      "silver\n",
      "True\n"
     ]
    }
   ],
   "source": [
    "#create a new car class with doors, color, wheels, sunroof = True/False #instantiate three different makes\n",
    "\n",
    "class Car():\n",
    "    doors = 4\n",
    "    color = 'silver'\n",
    "    wheels = 4\n",
    "    sunroof = True\n",
    "\n",
    "chevy = Car() #instantiating variable as their own class\n",
    "honda = Car()\n",
    "lambo = Car()\n",
    "\n",
    "print(chevy.wheels)\n",
    "print(honda.color)\n",
    "print(lambo.sunroof)\n",
    "\n"
   ]
  },
  {
   "cell_type": "markdown",
   "metadata": {},
   "source": [
    "## The \\__init\\__() Method <br>\n",
    "<p>This method is used in almost every created class, and called only once upon the creation of the class instance. This method will initialize all variables needed for the object.</p>"
   ]
  },
  {
   "cell_type": "code",
   "execution_count": 21,
   "metadata": {},
   "outputs": [
    {
     "name": "stdout",
     "output_type": "stream",
     "text": [
      "18\n",
      "{'rooftop': 3, 'horn': 3, 'wheels': 18}\n"
     ]
    }
   ],
   "source": [
    "# 'dunder' double underscore init double underscore (__init__()) it is a method and will put stuff inside ()\n",
    "#we want toys to have a defualt\n",
    "\n",
    "class Toy: \n",
    "    kind = \"Car\" #each toy must have a rooftop, wheels, \n",
    "    \n",
    "    def __init__(self, rooftop, horn, wheels):  #will always begin with self followed by the attributes i want to include on my toy\n",
    "        self.rooftop = rooftop   #store variables where self is taking the position of\n",
    "        self.horn = horn   #every single toy must have: rooftop, horn, wheels or I dont want it\n",
    "        self.wheels = wheels #giving instructions to class on where to store attributes\n",
    "hotwheels: Toy(1,1,4) #every time i instantiate, i will only look at self to pass in as self and applying \n",
    "tonka = Toy(3,3,18)\n",
    "print(tonka.wheels)  #pointing at version \n",
    "\n",
    "print(tonka.__dict__) #gives dictionary output\n",
    "\n",
    "#self specifically gives version of car make"
   ]
  },
  {
   "cell_type": "markdown",
   "metadata": {},
   "source": [
    "##### The 'self' Attribute <br>\n",
    "<p>This attribute is required to keep track of specific instance's attributes. Without the self attribute, the program would not know how to reference or keep track of an instance's attributes.</p>"
   ]
  },
  {
   "cell_type": "code",
   "execution_count": null,
   "metadata": {},
   "outputs": [],
   "source": [
    "# see above"
   ]
  },
  {
   "cell_type": "markdown",
   "metadata": {},
   "source": [
    "## Class Attributes <br>\n",
    "<p>While variables are inside of a class, they are referred to as attributes and not variables. When someone says 'attribute' you know they're speaking about a class. Attributes can be initialized through the init method, or outside of it.</p>"
   ]
  },
  {
   "cell_type": "markdown",
   "metadata": {},
   "source": [
    "##### Initializing Attributes"
   ]
  },
  {
   "cell_type": "code",
   "execution_count": null,
   "metadata": {},
   "outputs": [],
   "source": [
    "# see above"
   ]
  },
  {
   "cell_type": "markdown",
   "metadata": {},
   "source": [
    "##### Accessing Class Attributes"
   ]
  },
  {
   "cell_type": "code",
   "execution_count": 23,
   "metadata": {
    "scrolled": true
   },
   "outputs": [
    {
     "name": "stdout",
     "output_type": "stream",
     "text": [
      "1\n",
      "4\n"
     ]
    }
   ],
   "source": [
    "class Car():\n",
    "    doors = 4\n",
    "    color = 'silver'\n",
    "    wheels = 4\n",
    "    sunroof = True\n",
    "\n",
    "chevy = Car() #instantiating variable as their own class\n",
    "honda = Car()\n",
    "lambo = Car()\n",
    "\n",
    "class Toy: \n",
    "    kind = \"Car\" #each toy must have a rooftop, wheels, \n",
    "    \n",
    "    def __init__(self, rooftop, horn, wheels):  #will always begin with self followed by the attributes i want to include on my toy\n",
    "        self.rooftop = rooftop   #store variables where self is taking the position of\n",
    "        self.horn = horn   #every single toy must have: rooftop, horn, wheels or I dont want it\n",
    "        self.wheels = wheels #giving instructions to class on where to store attributes\n",
    "hotwheels: Toy(1,1,4) #every time i instantiate, i will only look at self to pass in as self and applying \n",
    "tonka = Toy(3,3,18)\n",
    "print(tonka.wheels)  #pointing at version \n",
    "\n",
    "print(tonka.__dict__)\n",
    "\n",
    "\n",
    "print(chevy.wheels)\n",
    "print(honda.color)\n",
    "print(lambo.sunroof)\n",
    "\n",
    "\n",
    "tonka = Toy(1,1,4)\n",
    "\n",
    "print(tonka.rooftop)\n",
    "print(tonka.wheels)\n"
   ]
  },
  {
   "cell_type": "markdown",
   "metadata": {},
   "source": [
    "##### Setting Defaults for Attributes"
   ]
  },
  {
   "cell_type": "code",
   "execution_count": 28,
   "metadata": {},
   "outputs": [
    {
     "name": "stdout",
     "output_type": "stream",
     "text": [
      "Brown\n",
      "Black\n"
     ]
    }
   ],
   "source": [
    "class Human:  #every human must have the attributes eyes,height,etc.\n",
    "    def __init__(self,eyes,height,activity,hair=\"Brown\"): #self is inherent to the class method\n",
    "        self.eyes = eyes  #set the eyes attribute to person \n",
    "        self.height = height\n",
    "        self.activity = activity\n",
    "        self.hair = hair\n",
    "        \n",
    "nate = Human('blue', '6ft2in', True)\n",
    "print(nate.hair)\n",
    "julia = Human('brown', '5ft10in', True, 'Black') #overwrites hair='Brown'\n",
    "print(julia.hair)\n",
    " #attributes are not immutable"
   ]
  },
  {
   "cell_type": "markdown",
   "metadata": {},
   "source": [
    "##### Changing Class Attributes <br>\n",
    "<p>Keep in mind there are global class attributes and then there are attributes only available to each class instance which won't effect other classes.</p>"
   ]
  },
  {
   "cell_type": "code",
   "execution_count": 29,
   "metadata": {},
   "outputs": [
    {
     "name": "stdout",
     "output_type": "stream",
     "text": [
      "BEFORE attribute change Black\n",
      "AFTER attribute change:) blonde\n"
     ]
    }
   ],
   "source": [
    "#changing attribute\n",
    "#if julia died her hair blonde\n",
    "\n",
    "print(f'BEFORE attribute change {julia.hair}')\n",
    "\n",
    "julia.hair = 'blonde'\n",
    "\n",
    "print(f'AFTER attribute change:) {julia.hair}')"
   ]
  },
  {
   "cell_type": "code",
   "execution_count": null,
   "metadata": {},
   "outputs": [],
   "source": []
  },
  {
   "cell_type": "markdown",
   "metadata": {},
   "source": [
    "##### In-Class Exercise #2 - Add a doors and seats attribute to your 'Car' class then print out two different instances with different doors and seats"
   ]
  },
  {
   "cell_type": "code",
   "execution_count": 37,
   "metadata": {},
   "outputs": [
    {
     "name": "stdout",
     "output_type": "stream",
     "text": [
      "This car has 2 doors and 5 seats!\n",
      "None\n",
      "This car has 4 doors and 5 seats!\n",
      "None\n"
     ]
    }
   ],
   "source": [
    "#jeep - 2 doors 5 seats and lambo - 4 doors 5 seats\n",
    "class Car:\n",
    "    def __init__(self, doors=4, seats=5):\n",
    "        self.doors = doors\n",
    "        self.seats = seats\n",
    "        \n",
    "    def printAttribute(self):\n",
    "        print(f'This car has {self.doors} doors and {self.seats} seats!')\n",
    "        \n",
    "jeep = Car(2) #(2) changes/overwrites defualt parameters above #instance of a class\n",
    "lambo = Car()\n",
    "\n",
    "print(jeep.printAttribute())\n",
    "print(lambo.printAttribute())\n"
   ]
  },
  {
   "cell_type": "markdown",
   "metadata": {},
   "source": [
    "## Class Methods <br>\n",
    "<p>While inside of a class, functions are referred to as 'methods'. If you hear someone mention methods, they're speaking about classes. Methods are essentially functions, but only callable on the instances of a class.</p>"
   ]
  },
  {
   "cell_type": "markdown",
   "metadata": {},
   "source": [
    "##### Creating"
   ]
  },
  {
   "cell_type": "code",
   "execution_count": 63,
   "metadata": {},
   "outputs": [
    {
     "name": "stdout",
     "output_type": "stream",
     "text": [
      "Your current bag capacity is: 26\n"
     ]
    }
   ],
   "source": [
    "class ShoppingBag:\n",
    "    \"\"\"\n",
    "        The ShoppingBag Class will have handles, capacity, and items to place inside\n",
    "        \n",
    "        Attributes for class: \n",
    "        -handles: expected to be an integer\n",
    "        capacity: expected to be a string or integer\n",
    "        items: expected to be a list\n",
    "    \"\"\"\n",
    "    def __init__(self, handles, capacity, items):\n",
    "        self.handles = handles\n",
    "        self.capacity = capacity\n",
    "        self.items = items\n",
    "        \n",
    "    #Method to show all items in items-list\n",
    "    \n",
    "    def showShoppingBag(self):\n",
    "        print(\"Here are the items in your bag\" )\n",
    "        for item in self.items:  #run a forloop\n",
    "            print(item)\n",
    "\n",
    "# nordstrom = ShoppingBag(2,10,['shirt', 'shoes', 'hat'])\n",
    "# print(nordstrom.showShoppingBag())\n",
    "\n",
    "\n",
    "    #Method to show capacity\n",
    "    def showCapacity(self):\n",
    "        print(f'Your current bag capacity is: {self.capacity}')\n",
    "        \n",
    "# pacsun = ShoppingBag(2,10,[])   #new ShoppingBag instance\n",
    "# print(pacsun.showCapacity())\n",
    "\n",
    "    #Method to add items to bag\n",
    "    def addToShoppingBag(self):\n",
    "        product = input('What would you like to add? ')\n",
    "        self.items.append(product)\n",
    "        print(f'Success! Here is your new bag: {self.items}')\n",
    "    \n",
    "# pacsun = ShoppingBag(2,10,[])\n",
    "# pacsun.addToShoppingBag()\n",
    "\n",
    "    #change capacity dynamically\n",
    "    def changeCapacity(self, capacity):\n",
    "        self.capacity = capacity\n",
    "   \n",
    "# pacsun = ShoppingBag(2,10,[])\n",
    "# pacsun.changeCapacity(25) \n",
    "# pacsun.showCapacity()\n",
    "\n",
    "    #increase capacity of bag by 10\n",
    "    def increaseCapacity(self, changed_cap = 10):  \n",
    "        if isinstance(self.capacity, str):  #boolean #isinstance takes in two diff arguments, type checking function\n",
    "            print('Cannot do that here ')  #will return True\n",
    "        else:\n",
    "            self.capacity += changed_cap  #will take on defualt value  #auto increment by 10\n",
    "\n",
    "pacsun = ShoppingBag(2,10,[])\n",
    "pacsun.changeCapacity(25) \n",
    "pacsun.increaseCapacity(1)\n",
    "pacsun.showCapacity()"
   ]
  },
  {
   "cell_type": "markdown",
   "metadata": {},
   "source": [
    "##### Calling"
   ]
  },
  {
   "cell_type": "code",
   "execution_count": 66,
   "metadata": {},
   "outputs": [
    {
     "name": "stdout",
     "output_type": "stream",
     "text": [
      "What do you want to do? Add/show/quitadd\n",
      "What would you like to add? shirt\n",
      "Success! Here is your new bag: ['shirt']\n",
      "What do you want to do? Add/show/quitadd\n",
      "What would you like to add? pants\n",
      "Success! Here is your new bag: ['shirt', 'pants']\n",
      "What do you want to do? Add/show/quitshow\n",
      "Here are the items in your bag\n",
      "shirt\n",
      "pants\n",
      "What do you want to do? Add/show/quitquit\n",
      "Here are the items in your bag\n",
      "shirt\n",
      "pants\n",
      "Thanks for shopping!\n"
     ]
    }
   ],
   "source": [
    "# See Above\n",
    "#Create a new instance of ShoppingBag\n",
    "#whole_foods = ShoppingBag(2,10,[])\n",
    "\n",
    "def run():\n",
    "    whole_foods = ShoppingBag(2,10,[])\n",
    "    while True:\n",
    "        response = input('What do you want to do? Add/show/quit' )\n",
    "        \n",
    "        if response.lower() == 'quit':\n",
    "            whole_foods.showShoppingBag()  #ShoppingBag available no matter \n",
    "            print('Thanks for shopping!')\n",
    "            break\n",
    "        elif response.lower() == 'add':\n",
    "            whole_foods.addToShoppingBag()\n",
    "            \n",
    "        elif response.lower() == 'show':\n",
    "            whole_foods.showShoppingBag()\n",
    "        else:\n",
    "            print('Not a valid input -- please retry')\n",
    "run()"
   ]
  },
  {
   "cell_type": "markdown",
   "metadata": {},
   "source": [
    "##### Modifying an Attribute's Value Through a Method"
   ]
  },
  {
   "cell_type": "code",
   "execution_count": 68,
   "metadata": {},
   "outputs": [
    {
     "name": "stdout",
     "output_type": "stream",
     "text": [
      "Your current bag capacity is: 100\n",
      "Your current bag capacity is: 150\n"
     ]
    }
   ],
   "source": [
    "mcdonalds = ShoppingBag(2,100,[])\n",
    "mcdonalds.showCapacity()\n",
    "mcdonalds.increaseCapacity(50)\n",
    "mcdonalds.showCapacity()\n"
   ]
  },
  {
   "cell_type": "markdown",
   "metadata": {},
   "source": [
    "##### Incrementing an Attribute's Value Through a Method"
   ]
  },
  {
   "cell_type": "code",
   "execution_count": 69,
   "metadata": {},
   "outputs": [
    {
     "name": "stdout",
     "output_type": "stream",
     "text": [
      "Your current bag capacity is: 160\n"
     ]
    }
   ],
   "source": [
    "mcdonalds.increaseCapacity()\n",
    "mcdonalds.showCapacity()"
   ]
  },
  {
   "cell_type": "markdown",
   "metadata": {},
   "source": [
    "##### In-Class Exercise #3 - Add a method that takes in three parameters of year, doors and seats and prints out a formatted print statement with make, model, year, seats, and doors"
   ]
  },
  {
   "cell_type": "code",
   "execution_count": 75,
   "metadata": {},
   "outputs": [
    {
     "name": "stdout",
     "output_type": "stream",
     "text": [
      "This car is from 2021 and is a BMW M5 and has 4 doors and 5 seats.\n"
     ]
    }
   ],
   "source": [
    "# Create class with 2 paramters inside of the __init__ which are make and model\n",
    "# Inside of the Car class create a method that has 4 parameter in total (self,year,door,seats)\n",
    "# Output: This car is from 2019 and is a Ford Expolorer and has 4 doors and 5 seats\n",
    "\n",
    "class Car:\n",
    "    def __init__(self, make, model):\n",
    "        self.make = make\n",
    "        self.model = model\n",
    "    \n",
    "    def showCar(self, year, doors, seats):\n",
    "        print(f'This car is from {year} and is a {self.make} {self.model} and has {doors} doors and {seats} seats.')\n",
    "\n",
    "bmw = Car('BMW', 'M5')\n",
    "\n",
    "bmw.showCar(2021,4,5)"
   ]
  },
  {
   "cell_type": "markdown",
   "metadata": {},
   "source": [
    "## Inheritance <br>\n",
    "<p>You can create a child-parent relationship between two classes by using inheritance. What this allows you to do is have overriding methods, but also inherit traits from the parent class. Think of it as an actual parent and child, the child will inherit the parent's genes, as will the classes in OOP</p>"
   ]
  },
  {
   "cell_type": "markdown",
   "metadata": {},
   "source": [
    "##### Syntax for Inheriting from a Parent Class"
   ]
  },
  {
   "cell_type": "code",
   "execution_count": 82,
   "metadata": {},
   "outputs": [
    {
     "name": "stdout",
     "output_type": "stream",
     "text": [
      "Bark\n",
      "None\n",
      "This dog has a speed of 15 and his name is Griffin.\n",
      "None\n",
      "Blue\n"
     ]
    }
   ],
   "source": [
    "#Creation of our Parent Class --- Animal\n",
    "\n",
    "class Animal:\n",
    "    def __init__(self, name, species, legs=4):\n",
    "        self.name = name\n",
    "        self.species = species\n",
    "        self.legs = legs\n",
    "    \n",
    "    #generic Parent (Animal) Method - no override yet\n",
    "    def makeSound(self):\n",
    "        print('Make Some Generic Sound')\n",
    "\n",
    "class Dog(Animal): #dog inherent blueprint of animal\n",
    "    speed = 15 #dog class with a speed of 15   #added additional attribute for speed\n",
    "    \n",
    "    def printInfo(self):\n",
    "        print(f'This dog has a speed of {self.speed} and his name is {self.name}.')\n",
    "        \n",
    "    #OVERRIDING\n",
    "    def makeSound(self): #override line 9\n",
    "        noise = 'Bark'\n",
    "        print(noise)\n",
    "    \n",
    "griffin = Dog('Griffin', 'Bulldog')\n",
    "\n",
    "print(griffin.makeSound())\n",
    "print(griffin.printInfo())\n",
    "\n",
    "\n",
    "#Grandchild class\n",
    "class Mutt(Dog):\n",
    "    def __init__(self, name, species, eye_color, legs=4):\n",
    "        Dog.__init__(self, name, species, legs)\n",
    "        self.eye_color = eye_color\n",
    "        \n",
    "hank = Mutt('Hank', 'Mutt', 'Blue')\n",
    "print(hank.eye_color)"
   ]
  },
  {
   "cell_type": "markdown",
   "metadata": {},
   "source": [
    "##### The \\__init\\__() Method for a Child Class - super()"
   ]
  },
  {
   "cell_type": "code",
   "execution_count": 83,
   "metadata": {
    "scrolled": true
   },
   "outputs": [
    {
     "data": {
      "text/plain": [
       "3"
      ]
     },
     "execution_count": 83,
     "metadata": {},
     "output_type": "execute_result"
    }
   ],
   "source": [
    "#super() class meaning OG or top of Animal tree\n",
    "\n",
    "class Yorkie(Dog):\n",
    "    def __init__(self, name, species, eye_color, legs=4):\n",
    "        super().__init__(name, species, legs)  #super() class does not take in SELF #redefined eye_color in super\n",
    "        self.eye_color = eye_color\n",
    "        \n",
    "Austin = Yorkie('austin', 'yorkie', 'brown', 3)\n",
    "print(Austin.legs)\n"
   ]
  },
  {
   "cell_type": "markdown",
   "metadata": {},
   "source": [
    "##### Defining Attributes and Methods for the Child Class"
   ]
  },
  {
   "cell_type": "code",
   "execution_count": null,
   "metadata": {},
   "outputs": [],
   "source": [
    "# See Above"
   ]
  },
  {
   "cell_type": "markdown",
   "metadata": {},
   "source": [
    "##### Method Overriding"
   ]
  },
  {
   "cell_type": "code",
   "execution_count": null,
   "metadata": {},
   "outputs": [],
   "source": [
    "# See Above"
   ]
  },
  {
   "cell_type": "markdown",
   "metadata": {},
   "source": [
    "## Classes as Attributes <br>\n",
    "<p>Classes can also be used as attributes within another class. This is useful in situations where you need to keep variables locally stored, instead of globally stored.</p>"
   ]
  },
  {
   "cell_type": "code",
   "execution_count": 86,
   "metadata": {},
   "outputs": [
    {
     "name": "stdout",
     "output_type": "stream",
     "text": [
      "tesla\n",
      "<__main__.Battery object at 0x7fba057780d0>\n",
      "16\n",
      "<bound method Battery.__init__ of <__main__.Battery object at 0x7fba057780d0>>\n"
     ]
    }
   ],
   "source": [
    "#define two diff classes\n",
    "class Battery:\n",
    "    volts = 7.8\n",
    "    \n",
    "    def __init__(self, cells):\n",
    "        self.cells = cells\n",
    "\n",
    "class Car:\n",
    "    def __init__(self, make, battery):\n",
    "        self.make = make\n",
    "        self.battery = battery\n",
    "        \n",
    "batt = Battery(16) #instantiating new battery\n",
    "\n",
    "\n",
    "tesla = Car('tesla', batt)\n",
    "\n",
    "print(tesla.make)\n",
    "print(tesla.battery) \n",
    "print(tesla.battery.cells) #battery inside of tesla has attributes of its own\n"
   ]
  },
  {
   "cell_type": "markdown",
   "metadata": {},
   "source": [
    "# Exercises"
   ]
  },
  {
   "cell_type": "markdown",
   "metadata": {},
   "source": [
    "### Exercise 1 - Turn the shopping cart program from yesterday into an object-oriented program\n",
    "\n",
    "The comments in the cell below are there as a guide for thinking about the problem. However, if you feel a different way is best for you and your own thought process, please do what feels best for you by all means."
   ]
  },
  {
   "cell_type": "code",
   "execution_count": 140,
   "metadata": {},
   "outputs": [
    {
     "name": "stdout",
     "output_type": "stream",
     "text": [
      "You have 10 items in your cart: \n"
     ]
    }
   ],
   "source": [
    "# Create a class called cart that retains items and has methods to add, remove, and show\n",
    "\n",
    "class Cart():\n",
    "    def __init__(self, items, edit, total):\n",
    "        self.items = items\n",
    "        self.edit = edit\n",
    "        self.total = total\n",
    "        \n",
    "    \n",
    "    def addShoppingCart(self):\n",
    "        product = input('What would you like to add? ')\n",
    "        self.items.append(product)\n",
    "        print(f\"Good choice! Here is what you added: {self.items} \")\n",
    "        \n",
    "\n",
    "# trader_joes = Cart([],2,10)\n",
    "# print(trader_joes.addShoppingCart())\n",
    "\n",
    "\n",
    "       \n",
    "    def editShoppingCart(self):\n",
    "        edit_product = input('What would you like to remove? ')\n",
    "        del edit_product\n",
    "        print(f'Your cart removed {self.edit} items: ')\n",
    "        \n",
    "# trader_joes = Cart([],2,10)\n",
    "# print(trader_joes.editShoppingCart())\n",
    "\n",
    "\n",
    "              \n",
    "    def showShoppingCart(self):\n",
    "        print(f'You have {self.total} items in your cart. ')\n",
    "        \n",
    "# trader_joes = Cart([],2,10)\n",
    "# print(trader_joes.showShoppingCart())\n",
    "        \n",
    "            \n",
    "        \n",
    "    def changeContents(self, contents):\n",
    "        self.contents = contents\n",
    "        \n",
    "# target = Cart([],2,10)\n",
    "# target.changeContents(15)\n",
    "# target.showShoppingCart()\n",
    "\n",
    "    \n",
    "    \n",
    "    def increaseContents(self, changed_cont = 20):\n",
    "        if isinstance(self.contents, str):\n",
    "            print('Invalid')\n",
    "        else:\n",
    "            self.contents += changed_cont\n",
    "            \n",
    "target = Cart([],2,10)\n",
    "target.changeContents(15)\n",
    "target.increaseContents(1)\n",
    "target.showShoppingCart()\n",
    "            "
   ]
  },
  {
   "cell_type": "markdown",
   "metadata": {},
   "source": [
    "### Exercise 2 - Write a Python class which has two methods get_String and print_String. get_String accept a string from the user and print_String print the string in upper case"
   ]
  },
  {
   "cell_type": "code",
   "execution_count": 142,
   "metadata": {},
   "outputs": [
    {
     "name": "stdout",
     "output_type": "stream",
     "text": [
      "Note: string\n",
      "None\n",
      "STRING\n",
      "None\n"
     ]
    }
   ],
   "source": [
    "class Generate():\n",
    "    def __init__(self):\n",
    "        pass\n",
    "            \n",
    "    #accept string from user\n",
    "    def getString(self):\n",
    "        self.accept = input(\"Note: \")\n",
    "    \n",
    "    #print string in upper\n",
    "    def printString(self):\n",
    "        print(self.accept.upper())\n",
    "        \n",
    "theScope = Generate()\n",
    "print(theScope.getString())\n",
    "print(theScope.printString())"
   ]
  },
  {
   "cell_type": "code",
   "execution_count": null,
   "metadata": {},
   "outputs": [],
   "source": []
  }
 ],
 "metadata": {
  "kernelspec": {
   "display_name": "Python 3",
   "language": "python",
   "name": "python3"
  },
  "language_info": {
   "codemirror_mode": {
    "name": "ipython",
    "version": 3
   },
   "file_extension": ".py",
   "mimetype": "text/x-python",
   "name": "python",
   "nbconvert_exporter": "python",
   "pygments_lexer": "ipython3",
   "version": "3.8.8"
  }
 },
 "nbformat": 4,
 "nbformat_minor": 2
}
